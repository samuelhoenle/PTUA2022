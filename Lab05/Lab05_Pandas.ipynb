{
 "cells": [
  {
   "cell_type": "markdown",
   "metadata": {
    "deletable": true,
    "editable": true
   },
   "source": [
    "# Lab05 Python Data Science with Pandas\n",
    "\n",
    "## Please submit your finished lab05 jupyter notebook via pull request in GitHub"
   ]
  },
  {
   "cell_type": "code",
   "execution_count": 2,
   "metadata": {
    "collapsed": false,
    "deletable": true,
    "editable": true,
    "jupyter": {
     "outputs_hidden": false
    }
   },
   "outputs": [],
   "source": [
    "# magic command to display matplotlib plots inline within the ipython notebook webpage\n",
    "%matplotlib inline\n",
    "\n",
    "# import necessary modules\n",
    "import pandas as pd, numpy as np, matplotlib.pyplot as plt"
   ]
  },
  {
   "cell_type": "markdown",
   "metadata": {
    "deletable": true,
    "editable": true
   },
   "source": [
    "## Part 1 <br /> Basics of Selecting and Slicing Data"
   ]
  },
  {
   "cell_type": "code",
   "execution_count": 3,
   "metadata": {
    "collapsed": false,
    "deletable": true,
    "editable": true,
    "jupyter": {
     "outputs_hidden": false
    }
   },
   "outputs": [
    {
     "data": {
      "text/plain": "         lat       lon              date          city         country\n0  51.481292 -0.451011  05/14/2014 09:07  West Drayton  United Kingdom\n1  51.474005 -0.450999  05/14/2014 09:22      Hounslow  United Kingdom\n2  51.478199 -0.446081  05/14/2014 10:51      Hounslow  United Kingdom\n3  51.478199 -0.446081  05/14/2014 11:24      Hounslow  United Kingdom\n4  51.474146 -0.451562  05/14/2014 11:38      Hounslow  United Kingdom",
      "text/html": "<div>\n<style scoped>\n    .dataframe tbody tr th:only-of-type {\n        vertical-align: middle;\n    }\n\n    .dataframe tbody tr th {\n        vertical-align: top;\n    }\n\n    .dataframe thead th {\n        text-align: right;\n    }\n</style>\n<table border=\"1\" class=\"dataframe\">\n  <thead>\n    <tr style=\"text-align: right;\">\n      <th></th>\n      <th>lat</th>\n      <th>lon</th>\n      <th>date</th>\n      <th>city</th>\n      <th>country</th>\n    </tr>\n  </thead>\n  <tbody>\n    <tr>\n      <th>0</th>\n      <td>51.481292</td>\n      <td>-0.451011</td>\n      <td>05/14/2014 09:07</td>\n      <td>West Drayton</td>\n      <td>United Kingdom</td>\n    </tr>\n    <tr>\n      <th>1</th>\n      <td>51.474005</td>\n      <td>-0.450999</td>\n      <td>05/14/2014 09:22</td>\n      <td>Hounslow</td>\n      <td>United Kingdom</td>\n    </tr>\n    <tr>\n      <th>2</th>\n      <td>51.478199</td>\n      <td>-0.446081</td>\n      <td>05/14/2014 10:51</td>\n      <td>Hounslow</td>\n      <td>United Kingdom</td>\n    </tr>\n    <tr>\n      <th>3</th>\n      <td>51.478199</td>\n      <td>-0.446081</td>\n      <td>05/14/2014 11:24</td>\n      <td>Hounslow</td>\n      <td>United Kingdom</td>\n    </tr>\n    <tr>\n      <th>4</th>\n      <td>51.474146</td>\n      <td>-0.451562</td>\n      <td>05/14/2014 11:38</td>\n      <td>Hounslow</td>\n      <td>United Kingdom</td>\n    </tr>\n  </tbody>\n</table>\n</div>"
     },
     "execution_count": 3,
     "metadata": {},
     "output_type": "execute_result"
    }
   ],
   "source": [
    "# create a pandas dataframe from the location data set\n",
    "df = pd.read_csv('data/summer-travel-gps-full.csv')\n",
    "df.head()"
   ]
  },
  {
   "cell_type": "code",
   "execution_count": 4,
   "metadata": {
    "collapsed": false,
    "deletable": true,
    "editable": true,
    "jupyter": {
     "outputs_hidden": false
    }
   },
   "outputs": [
    {
     "data": {
      "text/plain": "              city         country\n0     West Drayton  United Kingdom\n1         Hounslow  United Kingdom\n2         Hounslow  United Kingdom\n3         Hounslow  United Kingdom\n4         Hounslow  United Kingdom\n...            ...             ...\n1754        Munich         Germany\n1755        Munich         Germany\n1756        Munich         Germany\n1757        Munich         Germany\n1758        Munich         Germany\n\n[1759 rows x 2 columns]",
      "text/html": "<div>\n<style scoped>\n    .dataframe tbody tr th:only-of-type {\n        vertical-align: middle;\n    }\n\n    .dataframe tbody tr th {\n        vertical-align: top;\n    }\n\n    .dataframe thead th {\n        text-align: right;\n    }\n</style>\n<table border=\"1\" class=\"dataframe\">\n  <thead>\n    <tr style=\"text-align: right;\">\n      <th></th>\n      <th>city</th>\n      <th>country</th>\n    </tr>\n  </thead>\n  <tbody>\n    <tr>\n      <th>0</th>\n      <td>West Drayton</td>\n      <td>United Kingdom</td>\n    </tr>\n    <tr>\n      <th>1</th>\n      <td>Hounslow</td>\n      <td>United Kingdom</td>\n    </tr>\n    <tr>\n      <th>2</th>\n      <td>Hounslow</td>\n      <td>United Kingdom</td>\n    </tr>\n    <tr>\n      <th>3</th>\n      <td>Hounslow</td>\n      <td>United Kingdom</td>\n    </tr>\n    <tr>\n      <th>4</th>\n      <td>Hounslow</td>\n      <td>United Kingdom</td>\n    </tr>\n    <tr>\n      <th>...</th>\n      <td>...</td>\n      <td>...</td>\n    </tr>\n    <tr>\n      <th>1754</th>\n      <td>Munich</td>\n      <td>Germany</td>\n    </tr>\n    <tr>\n      <th>1755</th>\n      <td>Munich</td>\n      <td>Germany</td>\n    </tr>\n    <tr>\n      <th>1756</th>\n      <td>Munich</td>\n      <td>Germany</td>\n    </tr>\n    <tr>\n      <th>1757</th>\n      <td>Munich</td>\n      <td>Germany</td>\n    </tr>\n    <tr>\n      <th>1758</th>\n      <td>Munich</td>\n      <td>Germany</td>\n    </tr>\n  </tbody>\n</table>\n<p>1759 rows × 2 columns</p>\n</div>"
     },
     "execution_count": 4,
     "metadata": {},
     "output_type": "execute_result"
    }
   ],
   "source": [
    "# Q1: how to get 2 columns from the dataframe (city and country)?\n",
    "df[['city', 'country']]"
   ]
  },
  {
   "cell_type": "markdown",
   "metadata": {
    "deletable": true,
    "editable": true
   },
   "source": [
    "To get a single \"cell's\" value out of a dataframe, pass a column name, then a row label. This is equivalent to slicing the dataframe down to a single series, then slicing a single value out of that series using [ ] indexing."
   ]
  },
  {
   "cell_type": "code",
   "execution_count": 10,
   "metadata": {
    "collapsed": false,
    "deletable": true,
    "editable": true,
    "jupyter": {
     "outputs_hidden": false
    }
   },
   "outputs": [
    {
     "data": {
      "text/plain": "0    West Drayton\n1        Hounslow\n2        Hounslow\n3        Hounslow\n4        Hounslow\nName: city, dtype: object"
     },
     "execution_count": 10,
     "metadata": {},
     "output_type": "execute_result"
    }
   ],
   "source": [
    "# Q2: how to get the first 5 rows of the \"city\" column?\n",
    "df['city'][:5]\n",
    "df['city'].head(5)"
   ]
  },
  {
   "cell_type": "markdown",
   "metadata": {
    "deletable": true,
    "editable": true
   },
   "source": [
    "### Using .loc[ ]"
   ]
  },
  {
   "cell_type": "code",
   "execution_count": 12,
   "metadata": {
    "collapsed": false,
    "deletable": true,
    "editable": true,
    "jupyter": {
     "outputs_hidden": false
    }
   },
   "outputs": [
    {
     "data": {
      "text/plain": "lat               51.478199\nlon               -0.446081\ndate       05/14/2014 10:51\ncity               Hounslow\ncountry      United Kingdom\nName: 2, dtype: object"
     },
     "execution_count": 12,
     "metadata": {},
     "output_type": "execute_result"
    }
   ],
   "source": [
    "# Q3: how to use .loc to select the third row of the dataframe?\n",
    "df.loc[2]"
   ]
  },
  {
   "cell_type": "code",
   "execution_count": 16,
   "metadata": {
    "collapsed": false,
    "deletable": true,
    "editable": true,
    "jupyter": {
     "outputs_hidden": false
    }
   },
   "outputs": [
    {
     "ename": "KeyError",
     "evalue": "'country'",
     "output_type": "error",
     "traceback": [
      "\u001B[0;31m---------------------------------------------------------------------------\u001B[0m",
      "\u001B[0;31mKeyError\u001B[0m                                  Traceback (most recent call last)",
      "\u001B[0;32m/var/folders/hy/vpm71bsj40g8d9qhfg95kmtc0000gn/T/ipykernel_26184/2433604175.py\u001B[0m in \u001B[0;36m<module>\u001B[0;34m\u001B[0m\n\u001B[1;32m      1\u001B[0m \u001B[0;31m# Q4: how to use .loc to select the first row in \"country\" column?\u001B[0m\u001B[0;34m\u001B[0m\u001B[0;34m\u001B[0m\u001B[0m\n\u001B[0;32m----> 2\u001B[0;31m \u001B[0mdf\u001B[0m\u001B[0;34m.\u001B[0m\u001B[0mloc\u001B[0m\u001B[0;34m[\u001B[0m\u001B[0;34m'country'\u001B[0m\u001B[0;34m]\u001B[0m\u001B[0;34m\u001B[0m\u001B[0;34m\u001B[0m\u001B[0m\n\u001B[0m",
      "\u001B[0;32m~/.conda/envs/PTUA/lib/python3.9/site-packages/pandas/core/indexing.py\u001B[0m in \u001B[0;36m__getitem__\u001B[0;34m(self, key)\u001B[0m\n\u001B[1;32m    929\u001B[0m \u001B[0;34m\u001B[0m\u001B[0m\n\u001B[1;32m    930\u001B[0m             \u001B[0mmaybe_callable\u001B[0m \u001B[0;34m=\u001B[0m \u001B[0mcom\u001B[0m\u001B[0;34m.\u001B[0m\u001B[0mapply_if_callable\u001B[0m\u001B[0;34m(\u001B[0m\u001B[0mkey\u001B[0m\u001B[0;34m,\u001B[0m \u001B[0mself\u001B[0m\u001B[0;34m.\u001B[0m\u001B[0mobj\u001B[0m\u001B[0;34m)\u001B[0m\u001B[0;34m\u001B[0m\u001B[0;34m\u001B[0m\u001B[0m\n\u001B[0;32m--> 931\u001B[0;31m             \u001B[0;32mreturn\u001B[0m \u001B[0mself\u001B[0m\u001B[0;34m.\u001B[0m\u001B[0m_getitem_axis\u001B[0m\u001B[0;34m(\u001B[0m\u001B[0mmaybe_callable\u001B[0m\u001B[0;34m,\u001B[0m \u001B[0maxis\u001B[0m\u001B[0;34m=\u001B[0m\u001B[0maxis\u001B[0m\u001B[0;34m)\u001B[0m\u001B[0;34m\u001B[0m\u001B[0;34m\u001B[0m\u001B[0m\n\u001B[0m\u001B[1;32m    932\u001B[0m \u001B[0;34m\u001B[0m\u001B[0m\n\u001B[1;32m    933\u001B[0m     \u001B[0;32mdef\u001B[0m \u001B[0m_is_scalar_access\u001B[0m\u001B[0;34m(\u001B[0m\u001B[0mself\u001B[0m\u001B[0;34m,\u001B[0m \u001B[0mkey\u001B[0m\u001B[0;34m:\u001B[0m \u001B[0mtuple\u001B[0m\u001B[0;34m)\u001B[0m\u001B[0;34m:\u001B[0m\u001B[0;34m\u001B[0m\u001B[0;34m\u001B[0m\u001B[0m\n",
      "\u001B[0;32m~/.conda/envs/PTUA/lib/python3.9/site-packages/pandas/core/indexing.py\u001B[0m in \u001B[0;36m_getitem_axis\u001B[0;34m(self, key, axis)\u001B[0m\n\u001B[1;32m   1162\u001B[0m         \u001B[0;31m# fall thru to straight lookup\u001B[0m\u001B[0;34m\u001B[0m\u001B[0;34m\u001B[0m\u001B[0m\n\u001B[1;32m   1163\u001B[0m         \u001B[0mself\u001B[0m\u001B[0;34m.\u001B[0m\u001B[0m_validate_key\u001B[0m\u001B[0;34m(\u001B[0m\u001B[0mkey\u001B[0m\u001B[0;34m,\u001B[0m \u001B[0maxis\u001B[0m\u001B[0;34m)\u001B[0m\u001B[0;34m\u001B[0m\u001B[0;34m\u001B[0m\u001B[0m\n\u001B[0;32m-> 1164\u001B[0;31m         \u001B[0;32mreturn\u001B[0m \u001B[0mself\u001B[0m\u001B[0;34m.\u001B[0m\u001B[0m_get_label\u001B[0m\u001B[0;34m(\u001B[0m\u001B[0mkey\u001B[0m\u001B[0;34m,\u001B[0m \u001B[0maxis\u001B[0m\u001B[0;34m=\u001B[0m\u001B[0maxis\u001B[0m\u001B[0;34m)\u001B[0m\u001B[0;34m\u001B[0m\u001B[0;34m\u001B[0m\u001B[0m\n\u001B[0m\u001B[1;32m   1165\u001B[0m \u001B[0;34m\u001B[0m\u001B[0m\n\u001B[1;32m   1166\u001B[0m     \u001B[0;32mdef\u001B[0m \u001B[0m_get_slice_axis\u001B[0m\u001B[0;34m(\u001B[0m\u001B[0mself\u001B[0m\u001B[0;34m,\u001B[0m \u001B[0mslice_obj\u001B[0m\u001B[0;34m:\u001B[0m \u001B[0mslice\u001B[0m\u001B[0;34m,\u001B[0m \u001B[0maxis\u001B[0m\u001B[0;34m:\u001B[0m \u001B[0mint\u001B[0m\u001B[0;34m)\u001B[0m\u001B[0;34m:\u001B[0m\u001B[0;34m\u001B[0m\u001B[0;34m\u001B[0m\u001B[0m\n",
      "\u001B[0;32m~/.conda/envs/PTUA/lib/python3.9/site-packages/pandas/core/indexing.py\u001B[0m in \u001B[0;36m_get_label\u001B[0;34m(self, label, axis)\u001B[0m\n\u001B[1;32m   1111\u001B[0m     \u001B[0;32mdef\u001B[0m \u001B[0m_get_label\u001B[0m\u001B[0;34m(\u001B[0m\u001B[0mself\u001B[0m\u001B[0;34m,\u001B[0m \u001B[0mlabel\u001B[0m\u001B[0;34m,\u001B[0m \u001B[0maxis\u001B[0m\u001B[0;34m:\u001B[0m \u001B[0mint\u001B[0m\u001B[0;34m)\u001B[0m\u001B[0;34m:\u001B[0m\u001B[0;34m\u001B[0m\u001B[0;34m\u001B[0m\u001B[0m\n\u001B[1;32m   1112\u001B[0m         \u001B[0;31m# GH#5667 this will fail if the label is not present in the axis.\u001B[0m\u001B[0;34m\u001B[0m\u001B[0;34m\u001B[0m\u001B[0m\n\u001B[0;32m-> 1113\u001B[0;31m         \u001B[0;32mreturn\u001B[0m \u001B[0mself\u001B[0m\u001B[0;34m.\u001B[0m\u001B[0mobj\u001B[0m\u001B[0;34m.\u001B[0m\u001B[0mxs\u001B[0m\u001B[0;34m(\u001B[0m\u001B[0mlabel\u001B[0m\u001B[0;34m,\u001B[0m \u001B[0maxis\u001B[0m\u001B[0;34m=\u001B[0m\u001B[0maxis\u001B[0m\u001B[0;34m)\u001B[0m\u001B[0;34m\u001B[0m\u001B[0;34m\u001B[0m\u001B[0m\n\u001B[0m\u001B[1;32m   1114\u001B[0m \u001B[0;34m\u001B[0m\u001B[0m\n\u001B[1;32m   1115\u001B[0m     \u001B[0;32mdef\u001B[0m \u001B[0m_handle_lowerdim_multi_index_axis0\u001B[0m\u001B[0;34m(\u001B[0m\u001B[0mself\u001B[0m\u001B[0;34m,\u001B[0m \u001B[0mtup\u001B[0m\u001B[0;34m:\u001B[0m \u001B[0mtuple\u001B[0m\u001B[0;34m)\u001B[0m\u001B[0;34m:\u001B[0m\u001B[0;34m\u001B[0m\u001B[0;34m\u001B[0m\u001B[0m\n",
      "\u001B[0;32m~/.conda/envs/PTUA/lib/python3.9/site-packages/pandas/core/generic.py\u001B[0m in \u001B[0;36mxs\u001B[0;34m(self, key, axis, level, drop_level)\u001B[0m\n\u001B[1;32m   3774\u001B[0m                 \u001B[0;32mraise\u001B[0m \u001B[0mTypeError\u001B[0m\u001B[0;34m(\u001B[0m\u001B[0;34mf\"Expected label or tuple of labels, got {key}\"\u001B[0m\u001B[0;34m)\u001B[0m \u001B[0;32mfrom\u001B[0m \u001B[0me\u001B[0m\u001B[0;34m\u001B[0m\u001B[0;34m\u001B[0m\u001B[0m\n\u001B[1;32m   3775\u001B[0m         \u001B[0;32melse\u001B[0m\u001B[0;34m:\u001B[0m\u001B[0;34m\u001B[0m\u001B[0;34m\u001B[0m\u001B[0m\n\u001B[0;32m-> 3776\u001B[0;31m             \u001B[0mloc\u001B[0m \u001B[0;34m=\u001B[0m \u001B[0mindex\u001B[0m\u001B[0;34m.\u001B[0m\u001B[0mget_loc\u001B[0m\u001B[0;34m(\u001B[0m\u001B[0mkey\u001B[0m\u001B[0;34m)\u001B[0m\u001B[0;34m\u001B[0m\u001B[0;34m\u001B[0m\u001B[0m\n\u001B[0m\u001B[1;32m   3777\u001B[0m \u001B[0;34m\u001B[0m\u001B[0m\n\u001B[1;32m   3778\u001B[0m             \u001B[0;32mif\u001B[0m \u001B[0misinstance\u001B[0m\u001B[0;34m(\u001B[0m\u001B[0mloc\u001B[0m\u001B[0;34m,\u001B[0m \u001B[0mnp\u001B[0m\u001B[0;34m.\u001B[0m\u001B[0mndarray\u001B[0m\u001B[0;34m)\u001B[0m\u001B[0;34m:\u001B[0m\u001B[0;34m\u001B[0m\u001B[0;34m\u001B[0m\u001B[0m\n",
      "\u001B[0;32m~/.conda/envs/PTUA/lib/python3.9/site-packages/pandas/core/indexes/range.py\u001B[0m in \u001B[0;36mget_loc\u001B[0;34m(self, key, method, tolerance)\u001B[0m\n\u001B[1;32m    386\u001B[0m                 \u001B[0;32mexcept\u001B[0m \u001B[0mValueError\u001B[0m \u001B[0;32mas\u001B[0m \u001B[0merr\u001B[0m\u001B[0;34m:\u001B[0m\u001B[0;34m\u001B[0m\u001B[0;34m\u001B[0m\u001B[0m\n\u001B[1;32m    387\u001B[0m                     \u001B[0;32mraise\u001B[0m \u001B[0mKeyError\u001B[0m\u001B[0;34m(\u001B[0m\u001B[0mkey\u001B[0m\u001B[0;34m)\u001B[0m \u001B[0;32mfrom\u001B[0m \u001B[0merr\u001B[0m\u001B[0;34m\u001B[0m\u001B[0;34m\u001B[0m\u001B[0m\n\u001B[0;32m--> 388\u001B[0;31m             \u001B[0;32mraise\u001B[0m \u001B[0mKeyError\u001B[0m\u001B[0;34m(\u001B[0m\u001B[0mkey\u001B[0m\u001B[0;34m)\u001B[0m\u001B[0;34m\u001B[0m\u001B[0;34m\u001B[0m\u001B[0m\n\u001B[0m\u001B[1;32m    389\u001B[0m         \u001B[0;32mreturn\u001B[0m \u001B[0msuper\u001B[0m\u001B[0;34m(\u001B[0m\u001B[0;34m)\u001B[0m\u001B[0;34m.\u001B[0m\u001B[0mget_loc\u001B[0m\u001B[0;34m(\u001B[0m\u001B[0mkey\u001B[0m\u001B[0;34m,\u001B[0m \u001B[0mmethod\u001B[0m\u001B[0;34m=\u001B[0m\u001B[0mmethod\u001B[0m\u001B[0;34m,\u001B[0m \u001B[0mtolerance\u001B[0m\u001B[0;34m=\u001B[0m\u001B[0mtolerance\u001B[0m\u001B[0;34m)\u001B[0m\u001B[0;34m\u001B[0m\u001B[0;34m\u001B[0m\u001B[0m\n\u001B[1;32m    390\u001B[0m \u001B[0;34m\u001B[0m\u001B[0m\n",
      "\u001B[0;31mKeyError\u001B[0m: 'country'"
     ]
    }
   ],
   "source": [
    "# Q4: how to use .loc to select the first row in \"country\" column?\n",
    "df['country'].loc[0]"
   ]
  },
  {
   "cell_type": "code",
   "execution_count": 17,
   "metadata": {
    "collapsed": false,
    "deletable": true,
    "editable": true,
    "jupyter": {
     "outputs_hidden": false
    }
   },
   "outputs": [
    {
     "data": {
      "text/plain": "           city              date\n0  West Drayton  05/14/2014 09:07\n1      Hounslow  05/14/2014 09:22\n2      Hounslow  05/14/2014 10:51\n3      Hounslow  05/14/2014 11:24",
      "text/html": "<div>\n<style scoped>\n    .dataframe tbody tr th:only-of-type {\n        vertical-align: middle;\n    }\n\n    .dataframe tbody tr th {\n        vertical-align: top;\n    }\n\n    .dataframe thead th {\n        text-align: right;\n    }\n</style>\n<table border=\"1\" class=\"dataframe\">\n  <thead>\n    <tr style=\"text-align: right;\">\n      <th></th>\n      <th>city</th>\n      <th>date</th>\n    </tr>\n  </thead>\n  <tbody>\n    <tr>\n      <th>0</th>\n      <td>West Drayton</td>\n      <td>05/14/2014 09:07</td>\n    </tr>\n    <tr>\n      <th>1</th>\n      <td>Hounslow</td>\n      <td>05/14/2014 09:22</td>\n    </tr>\n    <tr>\n      <th>2</th>\n      <td>Hounslow</td>\n      <td>05/14/2014 10:51</td>\n    </tr>\n    <tr>\n      <th>3</th>\n      <td>Hounslow</td>\n      <td>05/14/2014 11:24</td>\n    </tr>\n  </tbody>\n</table>\n</div>"
     },
     "execution_count": 17,
     "metadata": {},
     "output_type": "execute_result"
    }
   ],
   "source": [
    "# Q5: how to select the first 4 rows of ['city', 'date'] columns?\n",
    "df[['city', 'date']].loc[:3]"
   ]
  },
  {
   "cell_type": "markdown",
   "metadata": {
    "deletable": true,
    "editable": true
   },
   "source": [
    "### Using .iloc[ ]"
   ]
  },
  {
   "cell_type": "code",
   "execution_count": 23,
   "metadata": {
    "collapsed": false,
    "deletable": true,
    "editable": true,
    "jupyter": {
     "outputs_hidden": false
    }
   },
   "outputs": [
    {
     "data": {
      "text/plain": "            lat        lon              date          city         country\n0     51.481292  -0.451011  05/14/2014 09:07  West Drayton  United Kingdom\n1     51.474005  -0.450999  05/14/2014 09:22      Hounslow  United Kingdom\n2     51.478199  -0.446081  05/14/2014 10:51      Hounslow  United Kingdom\n3     51.478199  -0.446081  05/14/2014 11:24      Hounslow  United Kingdom\n4     51.474146  -0.451562  05/14/2014 11:38      Hounslow  United Kingdom\n...         ...        ...               ...           ...             ...\n1754  48.356013  11.791710  07/09/2014 13:13        Munich         Germany\n1755  48.356529  11.792183  07/09/2014 13:14        Munich         Germany\n1756  48.356285  11.791710  07/09/2014 13:17        Munich         Germany\n1757  48.355328  11.791710  07/09/2014 13:18        Munich         Germany\n1758  48.357110  11.791346  07/09/2014 13:20        Munich         Germany\n\n[1759 rows x 5 columns]",
      "text/html": "<div>\n<style scoped>\n    .dataframe tbody tr th:only-of-type {\n        vertical-align: middle;\n    }\n\n    .dataframe tbody tr th {\n        vertical-align: top;\n    }\n\n    .dataframe thead th {\n        text-align: right;\n    }\n</style>\n<table border=\"1\" class=\"dataframe\">\n  <thead>\n    <tr style=\"text-align: right;\">\n      <th></th>\n      <th>lat</th>\n      <th>lon</th>\n      <th>date</th>\n      <th>city</th>\n      <th>country</th>\n    </tr>\n  </thead>\n  <tbody>\n    <tr>\n      <th>0</th>\n      <td>51.481292</td>\n      <td>-0.451011</td>\n      <td>05/14/2014 09:07</td>\n      <td>West Drayton</td>\n      <td>United Kingdom</td>\n    </tr>\n    <tr>\n      <th>1</th>\n      <td>51.474005</td>\n      <td>-0.450999</td>\n      <td>05/14/2014 09:22</td>\n      <td>Hounslow</td>\n      <td>United Kingdom</td>\n    </tr>\n    <tr>\n      <th>2</th>\n      <td>51.478199</td>\n      <td>-0.446081</td>\n      <td>05/14/2014 10:51</td>\n      <td>Hounslow</td>\n      <td>United Kingdom</td>\n    </tr>\n    <tr>\n      <th>3</th>\n      <td>51.478199</td>\n      <td>-0.446081</td>\n      <td>05/14/2014 11:24</td>\n      <td>Hounslow</td>\n      <td>United Kingdom</td>\n    </tr>\n    <tr>\n      <th>4</th>\n      <td>51.474146</td>\n      <td>-0.451562</td>\n      <td>05/14/2014 11:38</td>\n      <td>Hounslow</td>\n      <td>United Kingdom</td>\n    </tr>\n    <tr>\n      <th>...</th>\n      <td>...</td>\n      <td>...</td>\n      <td>...</td>\n      <td>...</td>\n      <td>...</td>\n    </tr>\n    <tr>\n      <th>1754</th>\n      <td>48.356013</td>\n      <td>11.791710</td>\n      <td>07/09/2014 13:13</td>\n      <td>Munich</td>\n      <td>Germany</td>\n    </tr>\n    <tr>\n      <th>1755</th>\n      <td>48.356529</td>\n      <td>11.792183</td>\n      <td>07/09/2014 13:14</td>\n      <td>Munich</td>\n      <td>Germany</td>\n    </tr>\n    <tr>\n      <th>1756</th>\n      <td>48.356285</td>\n      <td>11.791710</td>\n      <td>07/09/2014 13:17</td>\n      <td>Munich</td>\n      <td>Germany</td>\n    </tr>\n    <tr>\n      <th>1757</th>\n      <td>48.355328</td>\n      <td>11.791710</td>\n      <td>07/09/2014 13:18</td>\n      <td>Munich</td>\n      <td>Germany</td>\n    </tr>\n    <tr>\n      <th>1758</th>\n      <td>48.357110</td>\n      <td>11.791346</td>\n      <td>07/09/2014 13:20</td>\n      <td>Munich</td>\n      <td>Germany</td>\n    </tr>\n  </tbody>\n</table>\n<p>1759 rows × 5 columns</p>\n</div>"
     },
     "execution_count": 23,
     "metadata": {},
     "output_type": "execute_result"
    }
   ],
   "source": [
    "# use .iloc for integer position based indexing\n",
    "# Q6: how to get the value from the row in position 3 and the column in position 2\n",
    "df.iloc[3].iloc[2]"
   ]
  },
  {
   "cell_type": "code",
   "execution_count": 24,
   "metadata": {
    "collapsed": false,
    "deletable": true,
    "editable": true,
    "jupyter": {
     "outputs_hidden": false
    }
   },
   "outputs": [
    {
     "data": {
      "text/plain": "            lat        lon              date          city         country\n0     51.481292  -0.451011  05/14/2014 09:07  West Drayton  United Kingdom\n300   41.377091   2.151175  05/20/2014 03:18     Barcelona           Spain\n600   50.052338  19.946220  05/31/2014 21:10        Krakow          Poland\n900   48.561181   9.059672  06/09/2014 15:12      Tübingen         Germany\n1200  41.378301   2.187443  06/17/2014 16:37     Barcelona           Spain\n1500  42.208201  20.735993  06/30/2014 08:27       Prizren          Kosovo",
      "text/html": "<div>\n<style scoped>\n    .dataframe tbody tr th:only-of-type {\n        vertical-align: middle;\n    }\n\n    .dataframe tbody tr th {\n        vertical-align: top;\n    }\n\n    .dataframe thead th {\n        text-align: right;\n    }\n</style>\n<table border=\"1\" class=\"dataframe\">\n  <thead>\n    <tr style=\"text-align: right;\">\n      <th></th>\n      <th>lat</th>\n      <th>lon</th>\n      <th>date</th>\n      <th>city</th>\n      <th>country</th>\n    </tr>\n  </thead>\n  <tbody>\n    <tr>\n      <th>0</th>\n      <td>51.481292</td>\n      <td>-0.451011</td>\n      <td>05/14/2014 09:07</td>\n      <td>West Drayton</td>\n      <td>United Kingdom</td>\n    </tr>\n    <tr>\n      <th>300</th>\n      <td>41.377091</td>\n      <td>2.151175</td>\n      <td>05/20/2014 03:18</td>\n      <td>Barcelona</td>\n      <td>Spain</td>\n    </tr>\n    <tr>\n      <th>600</th>\n      <td>50.052338</td>\n      <td>19.946220</td>\n      <td>05/31/2014 21:10</td>\n      <td>Krakow</td>\n      <td>Poland</td>\n    </tr>\n    <tr>\n      <th>900</th>\n      <td>48.561181</td>\n      <td>9.059672</td>\n      <td>06/09/2014 15:12</td>\n      <td>Tübingen</td>\n      <td>Germany</td>\n    </tr>\n    <tr>\n      <th>1200</th>\n      <td>41.378301</td>\n      <td>2.187443</td>\n      <td>06/17/2014 16:37</td>\n      <td>Barcelona</td>\n      <td>Spain</td>\n    </tr>\n    <tr>\n      <th>1500</th>\n      <td>42.208201</td>\n      <td>20.735993</td>\n      <td>06/30/2014 08:27</td>\n      <td>Prizren</td>\n      <td>Kosovo</td>\n    </tr>\n  </tbody>\n</table>\n</div>"
     },
     "execution_count": 24,
     "metadata": {},
     "output_type": "execute_result"
    }
   ],
   "source": [
    "# Q7: how to use iloc to select every 300th row from a data set\n",
    "df.iloc[::300]"
   ]
  },
  {
   "cell_type": "markdown",
   "metadata": {
    "deletable": true,
    "editable": true
   },
   "source": [
    "## Part 2 <br /> How to select rows by some value(s)"
   ]
  },
  {
   "cell_type": "code",
   "execution_count": 58,
   "metadata": {
    "collapsed": false,
    "deletable": true,
    "editable": true,
    "jupyter": {
     "outputs_hidden": false
    }
   },
   "outputs": [
    {
     "data": {
      "text/html": [
       "<div>\n",
       "<style scoped>\n",
       "    .dataframe tbody tr th:only-of-type {\n",
       "        vertical-align: middle;\n",
       "    }\n",
       "\n",
       "    .dataframe tbody tr th {\n",
       "        vertical-align: top;\n",
       "    }\n",
       "\n",
       "    .dataframe thead th {\n",
       "        text-align: right;\n",
       "    }\n",
       "</style>\n",
       "<table border=\"1\" class=\"dataframe\">\n",
       "  <thead>\n",
       "    <tr style=\"text-align: right;\">\n",
       "      <th></th>\n",
       "      <th>lat</th>\n",
       "      <th>lon</th>\n",
       "      <th>date</th>\n",
       "      <th>city</th>\n",
       "      <th>country</th>\n",
       "    </tr>\n",
       "  </thead>\n",
       "  <tbody>\n",
       "    <tr>\n",
       "      <th>173</th>\n",
       "      <td>41.044556</td>\n",
       "      <td>28.983286</td>\n",
       "      <td>07/08/2014 16:44</td>\n",
       "      <td>Istanbul</td>\n",
       "      <td>Turkey</td>\n",
       "    </tr>\n",
       "    <tr>\n",
       "      <th>174</th>\n",
       "      <td>41.008992</td>\n",
       "      <td>28.968268</td>\n",
       "      <td>07/08/2014 20:03</td>\n",
       "      <td>Istanbul</td>\n",
       "      <td>Turkey</td>\n",
       "    </tr>\n",
       "    <tr>\n",
       "      <th>175</th>\n",
       "      <td>41.043487</td>\n",
       "      <td>28.985488</td>\n",
       "      <td>07/08/2014 22:18</td>\n",
       "      <td>Istanbul</td>\n",
       "      <td>Turkey</td>\n",
       "    </tr>\n",
       "    <tr>\n",
       "      <th>176</th>\n",
       "      <td>40.977637</td>\n",
       "      <td>28.823879</td>\n",
       "      <td>07/09/2014 09:03</td>\n",
       "      <td>Istanbul</td>\n",
       "      <td>Turkey</td>\n",
       "    </tr>\n",
       "    <tr>\n",
       "      <th>177</th>\n",
       "      <td>48.357110</td>\n",
       "      <td>11.791346</td>\n",
       "      <td>07/09/2014 13:20</td>\n",
       "      <td>Munich</td>\n",
       "      <td>Germany</td>\n",
       "    </tr>\n",
       "  </tbody>\n",
       "</table>\n",
       "</div>"
      ],
      "text/plain": [
       "           lat        lon              date      city  country\n",
       "173  41.044556  28.983286  07/08/2014 16:44  Istanbul   Turkey\n",
       "174  41.008992  28.968268  07/08/2014 20:03  Istanbul   Turkey\n",
       "175  41.043487  28.985488  07/08/2014 22:18  Istanbul   Turkey\n",
       "176  40.977637  28.823879  07/09/2014 09:03  Istanbul   Turkey\n",
       "177  48.357110  11.791346  07/09/2014 13:20    Munich  Germany"
      ]
     },
     "execution_count": 58,
     "metadata": {},
     "output_type": "execute_result"
    }
   ],
   "source": [
    "# load a reduced set of gps data\n",
    "df = pd.read_csv('data/summer-travel-gps-simplified.csv')\n",
    "df.tail()"
   ]
  },
  {
   "cell_type": "code",
   "execution_count": 26,
   "metadata": {
    "collapsed": false,
    "deletable": true,
    "editable": true,
    "jupyter": {
     "outputs_hidden": false
    }
   },
   "outputs": [
    {
     "data": {
      "text/plain": "0       False\n1       False\n2       False\n3       False\n4       False\n        ...  \n1754     True\n1755     True\n1756     True\n1757     True\n1758     True\nName: city, Length: 1759, dtype: bool"
     },
     "execution_count": 26,
     "metadata": {},
     "output_type": "execute_result"
    }
   ],
   "source": [
    "# Q9: create a Series of true/false, indicating if each \"city\" row in the column is equal to \"Munich\"\n",
    "df['city'] == 'Munich'"
   ]
  },
  {
   "cell_type": "code",
   "execution_count": 30,
   "metadata": {
    "collapsed": false,
    "deletable": true,
    "editable": true,
    "jupyter": {
     "outputs_hidden": false
    }
   },
   "outputs": [
    {
     "data": {
      "text/plain": "            lat        lon              date       city  country\n1362  44.821164  20.289821  06/21/2014 01:59   Belgrade   Serbia\n1363  44.814263  20.463396  06/21/2014 02:29   Belgrade   Serbia\n1364  44.814237  20.463395  06/21/2014 04:29   Belgrade   Serbia\n1365  44.814260  20.463441  06/21/2014 05:30   Belgrade   Serbia\n1366  44.814255  20.463413  06/21/2014 08:00   Belgrade   Serbia\n1367  44.814763  20.462994  06/21/2014 10:14   Belgrade   Serbia\n1368  44.814257  20.463436  06/21/2014 13:29   Belgrade   Serbia\n1369  44.814246  20.463423  06/21/2014 13:45   Belgrade   Serbia\n1370  44.814242  20.463396  06/21/2014 15:29   Belgrade   Serbia\n1371  44.817690  20.464091  06/21/2014 17:29   Belgrade   Serbia\n1372  44.820414  20.463465  06/21/2014 18:44   Belgrade   Serbia\n1373  44.814251  20.463413  06/21/2014 19:30   Belgrade   Serbia\n1374  44.814237  20.463392  06/21/2014 22:14   Belgrade   Serbia\n1375  44.814209  20.463401  06/22/2014 05:14   Belgrade   Serbia\n1376  44.761583  19.577904  06/22/2014 07:58  Slepčević   Serbia\n1753  48.356417  11.792155  07/09/2014 13:11     Munich  Germany\n1754  48.356013  11.791710  07/09/2014 13:13     Munich  Germany\n1755  48.356529  11.792183  07/09/2014 13:14     Munich  Germany\n1756  48.356285  11.791710  07/09/2014 13:17     Munich  Germany\n1757  48.355328  11.791710  07/09/2014 13:18     Munich  Germany\n1758  48.357110  11.791346  07/09/2014 13:20     Munich  Germany",
      "text/html": "<div>\n<style scoped>\n    .dataframe tbody tr th:only-of-type {\n        vertical-align: middle;\n    }\n\n    .dataframe tbody tr th {\n        vertical-align: top;\n    }\n\n    .dataframe thead th {\n        text-align: right;\n    }\n</style>\n<table border=\"1\" class=\"dataframe\">\n  <thead>\n    <tr style=\"text-align: right;\">\n      <th></th>\n      <th>lat</th>\n      <th>lon</th>\n      <th>date</th>\n      <th>city</th>\n      <th>country</th>\n    </tr>\n  </thead>\n  <tbody>\n    <tr>\n      <th>1362</th>\n      <td>44.821164</td>\n      <td>20.289821</td>\n      <td>06/21/2014 01:59</td>\n      <td>Belgrade</td>\n      <td>Serbia</td>\n    </tr>\n    <tr>\n      <th>1363</th>\n      <td>44.814263</td>\n      <td>20.463396</td>\n      <td>06/21/2014 02:29</td>\n      <td>Belgrade</td>\n      <td>Serbia</td>\n    </tr>\n    <tr>\n      <th>1364</th>\n      <td>44.814237</td>\n      <td>20.463395</td>\n      <td>06/21/2014 04:29</td>\n      <td>Belgrade</td>\n      <td>Serbia</td>\n    </tr>\n    <tr>\n      <th>1365</th>\n      <td>44.814260</td>\n      <td>20.463441</td>\n      <td>06/21/2014 05:30</td>\n      <td>Belgrade</td>\n      <td>Serbia</td>\n    </tr>\n    <tr>\n      <th>1366</th>\n      <td>44.814255</td>\n      <td>20.463413</td>\n      <td>06/21/2014 08:00</td>\n      <td>Belgrade</td>\n      <td>Serbia</td>\n    </tr>\n    <tr>\n      <th>1367</th>\n      <td>44.814763</td>\n      <td>20.462994</td>\n      <td>06/21/2014 10:14</td>\n      <td>Belgrade</td>\n      <td>Serbia</td>\n    </tr>\n    <tr>\n      <th>1368</th>\n      <td>44.814257</td>\n      <td>20.463436</td>\n      <td>06/21/2014 13:29</td>\n      <td>Belgrade</td>\n      <td>Serbia</td>\n    </tr>\n    <tr>\n      <th>1369</th>\n      <td>44.814246</td>\n      <td>20.463423</td>\n      <td>06/21/2014 13:45</td>\n      <td>Belgrade</td>\n      <td>Serbia</td>\n    </tr>\n    <tr>\n      <th>1370</th>\n      <td>44.814242</td>\n      <td>20.463396</td>\n      <td>06/21/2014 15:29</td>\n      <td>Belgrade</td>\n      <td>Serbia</td>\n    </tr>\n    <tr>\n      <th>1371</th>\n      <td>44.817690</td>\n      <td>20.464091</td>\n      <td>06/21/2014 17:29</td>\n      <td>Belgrade</td>\n      <td>Serbia</td>\n    </tr>\n    <tr>\n      <th>1372</th>\n      <td>44.820414</td>\n      <td>20.463465</td>\n      <td>06/21/2014 18:44</td>\n      <td>Belgrade</td>\n      <td>Serbia</td>\n    </tr>\n    <tr>\n      <th>1373</th>\n      <td>44.814251</td>\n      <td>20.463413</td>\n      <td>06/21/2014 19:30</td>\n      <td>Belgrade</td>\n      <td>Serbia</td>\n    </tr>\n    <tr>\n      <th>1374</th>\n      <td>44.814237</td>\n      <td>20.463392</td>\n      <td>06/21/2014 22:14</td>\n      <td>Belgrade</td>\n      <td>Serbia</td>\n    </tr>\n    <tr>\n      <th>1375</th>\n      <td>44.814209</td>\n      <td>20.463401</td>\n      <td>06/22/2014 05:14</td>\n      <td>Belgrade</td>\n      <td>Serbia</td>\n    </tr>\n    <tr>\n      <th>1376</th>\n      <td>44.761583</td>\n      <td>19.577904</td>\n      <td>06/22/2014 07:58</td>\n      <td>Slepčević</td>\n      <td>Serbia</td>\n    </tr>\n    <tr>\n      <th>1753</th>\n      <td>48.356417</td>\n      <td>11.792155</td>\n      <td>07/09/2014 13:11</td>\n      <td>Munich</td>\n      <td>Germany</td>\n    </tr>\n    <tr>\n      <th>1754</th>\n      <td>48.356013</td>\n      <td>11.791710</td>\n      <td>07/09/2014 13:13</td>\n      <td>Munich</td>\n      <td>Germany</td>\n    </tr>\n    <tr>\n      <th>1755</th>\n      <td>48.356529</td>\n      <td>11.792183</td>\n      <td>07/09/2014 13:14</td>\n      <td>Munich</td>\n      <td>Germany</td>\n    </tr>\n    <tr>\n      <th>1756</th>\n      <td>48.356285</td>\n      <td>11.791710</td>\n      <td>07/09/2014 13:17</td>\n      <td>Munich</td>\n      <td>Germany</td>\n    </tr>\n    <tr>\n      <th>1757</th>\n      <td>48.355328</td>\n      <td>11.791710</td>\n      <td>07/09/2014 13:18</td>\n      <td>Munich</td>\n      <td>Germany</td>\n    </tr>\n    <tr>\n      <th>1758</th>\n      <td>48.357110</td>\n      <td>11.791346</td>\n      <td>07/09/2014 13:20</td>\n      <td>Munich</td>\n      <td>Germany</td>\n    </tr>\n  </tbody>\n</table>\n</div>"
     },
     "execution_count": 30,
     "metadata": {},
     "output_type": "execute_result"
    }
   ],
   "source": [
    "# Q11: select rows where either the city is munich, or the country is serbia\n",
    "df[(df['city'] == 'Munich') | (df['country'] == 'Serbia')]"
   ]
  },
  {
   "cell_type": "code",
   "execution_count": 31,
   "metadata": {
    "collapsed": false,
    "deletable": true,
    "editable": true,
    "jupyter": {
     "outputs_hidden": false
    }
   },
   "outputs": [
    {
     "data": {
      "text/plain": "263"
     },
     "execution_count": 31,
     "metadata": {},
     "output_type": "execute_result"
    }
   ],
   "source": [
    "# Q12: how many observations are west of the prime meridian?\n",
    "len(df[df['lon'] < 0])"
   ]
  },
  {
   "cell_type": "code",
   "execution_count": 34,
   "metadata": {
    "collapsed": false,
    "deletable": true,
    "editable": true,
    "jupyter": {
     "outputs_hidden": false
    }
   },
   "outputs": [
    {
     "data": {
      "text/plain": "            lat        lon              date         city  country\n659   50.273632  18.729429  06/02/2014 06:39      Gliwice   Poland\n660   50.273632  18.729429  06/02/2014 06:55      Gliwice   Poland\n942   48.282940   8.199630  06/10/2014 13:33       Gutach  Germany\n943   48.389029   8.021342  06/10/2014 13:48   Gengenbach  Germany\n1575  40.187827  20.079304  07/04/2014 17:39  Gjirokastër  Albania\n1576  40.187825  20.079303  07/04/2014 17:42  Gjirokastër  Albania",
      "text/html": "<div>\n<style scoped>\n    .dataframe tbody tr th:only-of-type {\n        vertical-align: middle;\n    }\n\n    .dataframe tbody tr th {\n        vertical-align: top;\n    }\n\n    .dataframe thead th {\n        text-align: right;\n    }\n</style>\n<table border=\"1\" class=\"dataframe\">\n  <thead>\n    <tr style=\"text-align: right;\">\n      <th></th>\n      <th>lat</th>\n      <th>lon</th>\n      <th>date</th>\n      <th>city</th>\n      <th>country</th>\n    </tr>\n  </thead>\n  <tbody>\n    <tr>\n      <th>659</th>\n      <td>50.273632</td>\n      <td>18.729429</td>\n      <td>06/02/2014 06:39</td>\n      <td>Gliwice</td>\n      <td>Poland</td>\n    </tr>\n    <tr>\n      <th>660</th>\n      <td>50.273632</td>\n      <td>18.729429</td>\n      <td>06/02/2014 06:55</td>\n      <td>Gliwice</td>\n      <td>Poland</td>\n    </tr>\n    <tr>\n      <th>942</th>\n      <td>48.282940</td>\n      <td>8.199630</td>\n      <td>06/10/2014 13:33</td>\n      <td>Gutach</td>\n      <td>Germany</td>\n    </tr>\n    <tr>\n      <th>943</th>\n      <td>48.389029</td>\n      <td>8.021342</td>\n      <td>06/10/2014 13:48</td>\n      <td>Gengenbach</td>\n      <td>Germany</td>\n    </tr>\n    <tr>\n      <th>1575</th>\n      <td>40.187827</td>\n      <td>20.079304</td>\n      <td>07/04/2014 17:39</td>\n      <td>Gjirokastër</td>\n      <td>Albania</td>\n    </tr>\n    <tr>\n      <th>1576</th>\n      <td>40.187825</td>\n      <td>20.079303</td>\n      <td>07/04/2014 17:42</td>\n      <td>Gjirokastër</td>\n      <td>Albania</td>\n    </tr>\n  </tbody>\n</table>\n</div>"
     },
     "execution_count": 34,
     "metadata": {},
     "output_type": "execute_result"
    }
   ],
   "source": [
    "# Q13: get all rows that contain a city that starts with the letter G\n",
    "df[df['city'].str.startswith('G')]"
   ]
  },
  {
   "cell_type": "code",
   "execution_count": 41,
   "metadata": {},
   "outputs": [
    {
     "data": {
      "text/plain": "(113, 15, False)"
     },
     "execution_count": 41,
     "metadata": {},
     "output_type": "execute_result"
    }
   ],
   "source": [
    "# Q14: how many unique cities and countries in the dataset? \n",
    "# Also can you check missing values for the dataframe\n",
    "len(df['city'].unique()), len(df['country'].unique()), df.isnull().values.any()"
   ]
  },
  {
   "cell_type": "code",
   "execution_count": 44,
   "metadata": {},
   "outputs": [
    {
     "data": {
      "text/plain": "country\nAlbania                                                [Berat, Gjirokastër]\nBosnia and Herzegovina       [Sarajevo, Mostar, Herzegovina-Neretva Canton]\nCroatia                                           [Ploče, Split, Dubrovnik]\nCzech Republic            [Novy Bohumin, Ostrava, Suchdol nad Odrou, Hra...\nGermany                   [Kümmersbruck, Winkelhaid, Kammerstein, Ansbac...\nGreece                    [Kakavia, Dytiki Ellada, Peloponnese, Athens, ...\nKosovo                                                            [Prizren]\nMacedonia (FYROM)                                                   [Ohrid]\nMontenegro                                                          [Kotor]\nPoland                    [Zendek, Tarnowskie Góry County, Silesian Voiv...\nPortugal                  [Lisbon, Amadora, Algueirão-Mem Martins, Sintr...\nSerbia                                                [Belgrade, Slepčević]\nSpain                     [El Prat de Llobregat, Viladecans, Barcelona, ...\nTurkey                                                           [Istanbul]\nUnited Kingdom                                     [West Drayton, Hounslow]\nName: city, dtype: object"
     },
     "execution_count": 44,
     "metadata": {},
     "output_type": "execute_result"
    }
   ],
   "source": [
    "# Q15: group by country name and show the city names in each of the country\n",
    "df.groupby('country')['city'].unique()"
   ]
  },
  {
   "cell_type": "markdown",
   "metadata": {
    "deletable": true,
    "editable": true
   },
   "source": [
    "## Part 3 <br /> How to select based on a date-time values"
   ]
  },
  {
   "cell_type": "code",
   "execution_count": 45,
   "metadata": {
    "collapsed": false,
    "deletable": true,
    "editable": true,
    "jupyter": {
     "outputs_hidden": false
    }
   },
   "outputs": [
    {
     "data": {
      "text/plain": "                           lat       lon          city         country\ndate                                                                  \n2014-05-14 09:07:00  51.481292 -0.451011  West Drayton  United Kingdom\n2014-05-14 09:22:00  51.474005 -0.450999      Hounslow  United Kingdom\n2014-05-14 10:51:00  51.478199 -0.446081      Hounslow  United Kingdom\n2014-05-14 11:24:00  51.478199 -0.446081      Hounslow  United Kingdom\n2014-05-14 11:38:00  51.474146 -0.451562      Hounslow  United Kingdom",
      "text/html": "<div>\n<style scoped>\n    .dataframe tbody tr th:only-of-type {\n        vertical-align: middle;\n    }\n\n    .dataframe tbody tr th {\n        vertical-align: top;\n    }\n\n    .dataframe thead th {\n        text-align: right;\n    }\n</style>\n<table border=\"1\" class=\"dataframe\">\n  <thead>\n    <tr style=\"text-align: right;\">\n      <th></th>\n      <th>lat</th>\n      <th>lon</th>\n      <th>city</th>\n      <th>country</th>\n    </tr>\n    <tr>\n      <th>date</th>\n      <th></th>\n      <th></th>\n      <th></th>\n      <th></th>\n    </tr>\n  </thead>\n  <tbody>\n    <tr>\n      <th>2014-05-14 09:07:00</th>\n      <td>51.481292</td>\n      <td>-0.451011</td>\n      <td>West Drayton</td>\n      <td>United Kingdom</td>\n    </tr>\n    <tr>\n      <th>2014-05-14 09:22:00</th>\n      <td>51.474005</td>\n      <td>-0.450999</td>\n      <td>Hounslow</td>\n      <td>United Kingdom</td>\n    </tr>\n    <tr>\n      <th>2014-05-14 10:51:00</th>\n      <td>51.478199</td>\n      <td>-0.446081</td>\n      <td>Hounslow</td>\n      <td>United Kingdom</td>\n    </tr>\n    <tr>\n      <th>2014-05-14 11:24:00</th>\n      <td>51.478199</td>\n      <td>-0.446081</td>\n      <td>Hounslow</td>\n      <td>United Kingdom</td>\n    </tr>\n    <tr>\n      <th>2014-05-14 11:38:00</th>\n      <td>51.474146</td>\n      <td>-0.451562</td>\n      <td>Hounslow</td>\n      <td>United Kingdom</td>\n    </tr>\n  </tbody>\n</table>\n</div>"
     },
     "execution_count": 45,
     "metadata": {},
     "output_type": "execute_result"
    }
   ],
   "source": [
    "# load the location data set, indexed by the date field\n",
    "# and, parse the dates so they're no longer strings but now rather Python datetime objects\n",
    "# this lets us do date and time based operations on the data set\n",
    "dt = pd.read_csv('data/summer-travel-gps-full.csv', index_col='date', parse_dates=True)\n",
    "dt.head()"
   ]
  },
  {
   "cell_type": "code",
   "execution_count": 62,
   "metadata": {
    "collapsed": false,
    "deletable": true,
    "editable": true,
    "jupyter": {
     "outputs_hidden": false
    }
   },
   "outputs": [
    {
     "data": {
      "text/plain": "True"
     },
     "execution_count": 62,
     "metadata": {},
     "output_type": "execute_result"
    }
   ],
   "source": [
    "# Q16: is the timestamp index unique? How can you use code to find it?\n",
    "len(dt) == len(dt.index.unique())"
   ]
  },
  {
   "cell_type": "code",
   "execution_count": 61,
   "metadata": {
    "collapsed": false,
    "deletable": true,
    "editable": true,
    "jupyter": {
     "outputs_hidden": false
    }
   },
   "outputs": [],
   "source": [
    "# Q17: drop duplicate index\n",
    "dt.drop(index=dt[dt.index.duplicated()].index, axis=0, inplace=True)"
   ]
  },
  {
   "cell_type": "code",
   "execution_count": 106,
   "metadata": {
    "collapsed": false,
    "deletable": true,
    "editable": true,
    "jupyter": {
     "outputs_hidden": false
    }
   },
   "outputs": [],
   "source": [
    "# Q18: create a weekday and a weekend dataframe\n",
    "dt['weekday'] = [day.strftime(\"%A\") for day in dt.index]\n",
    "weekday = dt[dt.index.weekday.isin(range(5))]\n",
    "weekend = dt[dt.index.weekday.isin([5,6])]"
   ]
  },
  {
   "cell_type": "code",
   "execution_count": 109,
   "metadata": {
    "collapsed": false,
    "deletable": true,
    "editable": true,
    "jupyter": {
     "outputs_hidden": false
    },
    "pycharm": {
     "name": "#%%\n"
    }
   },
   "outputs": [
    {
     "data": {
      "text/plain": "<AxesSubplot:>"
     },
     "execution_count": 109,
     "metadata": {},
     "output_type": "execute_result"
    },
    {
     "data": {
      "text/plain": "<Figure size 432x288 with 1 Axes>",
      "image/png": "[encoded data removed]"
     },
     "metadata": {
      "needs_background": "light"
     },
     "output_type": "display_data"
    }
   ],
   "source": [
    "# Q19: calculate and plot the number of observations each day of the week has\n",
    "dt.weekday.value_counts().loc[[\"Monday\", \"Tuesday\", \"Wednesday\", \"Thursday\", \"Friday\", \"Saturday\", \"Sunday\"]].plot.bar()"
   ]
  }
 ],
 "metadata": {
  "kernelspec": {
   "display_name": "Python 3",
   "language": "python",
   "name": "python3"
  },
  "language_info": {
   "codemirror_mode": {
    "name": "ipython",
    "version": 3
   },
   "file_extension": ".py",
   "mimetype": "text/x-python",
   "name": "python",
   "nbconvert_exporter": "python",
   "pygments_lexer": "ipython3",
   "version": "3.7.6"
  }
 },
 "nbformat": 4,
 "nbformat_minor": 4
}